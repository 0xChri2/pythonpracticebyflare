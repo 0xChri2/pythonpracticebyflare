{
 "cells": [
  {
   "cell_type": "markdown",
   "metadata": {
    "pycharm": {
     "name": "#%% md\n"
    }
   },
   "source": [
    "# Von den elementare Algorithmusschritten\n",
    "... im Pseudocode zur Skriptsprache Python."
   ]
  },
  {
   "cell_type": "markdown",
   "metadata": {
    "pycharm": {
     "name": "#%% md\n"
    },
    "tags": []
   },
   "source": [
    "In diesem Jupyter Notebook werden die elementare Algorithmusschritte vorgestellt. Die elementaren Algorithmusschritte in Pseudocode, wie sie in fast jede proceduraler Sprache übersetzt werden können, werden hier anschaulich in der interpretierten Programmiersprache Python dargestellt.\n",
    "\n",
    "## Zuweisung\n",
    "\n",
    "Der erste elementare Schritt ist die *Basisoperation*, auch *Zuweisung* genannt. Im Pseudocode wird diese wie folgt dargestellt:\n",
    "\n",
    "`variable = wert`\n",
    "\n",
    "Der Variablen `variable` auf der linken Seite wird der `wert` oder der Wert des zu berechnenden Ausdrucks auf der rechten Seite zugewiesen. Als Beispiel in Python:"
   ]
  },
  {
   "cell_type": "code",
   "execution_count": 2,
   "metadata": {
    "pycharm": {
     "is_executing": false,
     "name": "#%%\n"
    }
   },
   "outputs": [],
   "source": [
    "wochentage = 7"
   ]
  },
  {
   "cell_type": "markdown",
   "metadata": {
    "pycharm": {
     "name": "#%% md\n"
    }
   },
   "source": [
    "Der Variablen `wochentage` wird der ganzzahlige Wert 7 zugewiesen. Hinter den Szenen übernimmt der Python Interpreter für uns die Reservierung und Allokierung des Speichers sowie der Initialisierung mit dem angegebenen Wert."
   ]
  },
  {
   "cell_type": "markdown",
   "metadata": {},
   "source": [
    "Das nachfolgende Beispiel ist fehlerhaft und Python zeigt einen Fehler an: "
   ]
  },
  {
   "cell_type": "code",
   "execution_count": 3,
   "metadata": {
    "pycharm": {
     "is_executing": false,
     "name": "#%%\n"
    }
   },
   "outputs": [
    {
     "ename": "SyntaxError",
     "evalue": "can't assign to literal (<ipython-input-3-d8cf78844048>, line 1)",
     "output_type": "error",
     "traceback": [
      "\u001b[0;36m  File \u001b[0;32m\"<ipython-input-3-d8cf78844048>\"\u001b[0;36m, line \u001b[0;32m1\u001b[0m\n\u001b[0;31m    7 = wochentage\u001b[0m\n\u001b[0m                  ^\u001b[0m\n\u001b[0;31mSyntaxError\u001b[0m\u001b[0;31m:\u001b[0m can't assign to literal\n"
     ]
    }
   ],
   "source": [
    "7 = wochentage"
   ]
  },
  {
   "cell_type": "markdown",
   "metadata": {
    "pycharm": {
     "name": "#%% md\n"
    }
   },
   "source": [
    "Nach der erfolgreichen Zusweisung des Wertes kann die Variable `wochentage` im fortlaufenden Kontext verwendbar. Dies leitet über zum nächsten elementaren Algorithmusschritt; die Verwendung von *Folgen* oder *Sequenzen*.\n",
    "\n",
    "## Folge\n",
    "\n",
    "Eine Folge von `n` Schritten wird im Pseudocode so dargestellt:\n",
    "\n",
    "```\n",
    "Schritt 1\n",
    "Schritt 2\n",
    "Schritt 3\n",
    "...\n",
    "...\n",
    "Schritt n\n",
    "```\n",
    "\n",
    "Exemplarischer Code in Python, in welchem wir eine Folge von Zuweisungen angeben, wird folgendermaßen dargestellt:"
   ]
  },
  {
   "cell_type": "code",
   "execution_count": 5,
   "metadata": {
    "pycharm": {
     "is_executing": false,
     "name": "#%%\n"
    }
   },
   "outputs": [
    {
     "name": "stdout",
     "output_type": "stream",
     "text": [
      "Hallo!\n"
     ]
    }
   ],
   "source": [
    "stunden = 24\n",
    "wochentage = 7\n",
    "monate = 12\n",
    "\n",
    "professoren = 60\n",
    "studierende = 16000\n",
    "print(\"Hallo!\")"
   ]
  },
  {
   "cell_type": "markdown",
   "metadata": {
    "pycharm": {
     "name": "#%% md\n"
    }
   },
   "source": [
    "Es wird immer ein Schritt zu einem bestimmten Zeitpunkt in der angegebenen Reihenfolge ausgeführt. Sobald der letzte Schritt durchgeführt wurde, gilt der Algorithmus als beendet.\n",
    "\n",
    "## Fallunterscheidung\n",
    "\n",
    "Um Schritte ausschließlich unter bestimmten Voraussetzungen ausführen zu lassen, wird die Fallunterscheidung verwendet:\n",
    "\n",
    "```\n",
    "FALLS Bedingung\n",
    "DANN\n",
    "    Schritt 1\n",
    "    Schritt 2\n",
    "    Schritt ...\n",
    "    Schritt n\n",
    "ENDE FALLS\n",
    "```\n",
    "\n",
    "Die Schritte zwischen den `DANN` und `ENDE FALLS`-Blöcken werden nur dann ausgeführt, wenn die obige Bedingung als erfüllt gilt.\n",
    "\n",
    "Zunächst weisen wir einer beliebigen Variable den Wahrheitswert `True` zu, damit die zu prüfende Bedingung erfüllt ist."
   ]
  },
  {
   "cell_type": "code",
   "execution_count": null,
   "metadata": {
    "pycharm": {
     "is_executing": false,
     "name": "#%%\n"
    }
   },
   "outputs": [],
   "source": [
    "wahr = True\n",
    "\n",
    "if wahr is True:\n",
    "    antwort = 42\n",
    "    print('Wahr!')"
   ]
  },
  {
   "cell_type": "markdown",
   "metadata": {
    "pycharm": {
     "name": "#%% md\n"
    }
   },
   "source": [
    "Des Weiteren besteht die Möglichkeit einen (optionalen) alternativen Zweig hinzuzufügen, falls die Bedingung, welche geprüft wird, als nicht erfüllt eingestuft wird:\n",
    "\n",
    "```\n",
    "FALLS Bedingung \n",
    "DANN\n",
    "    Schritt 1\n",
    "[ SONST\n",
    "    Schritt 2 ]\n",
    "ENDE FALLS\n",
    "```\n",
    "\n",
    "Der Abschnitt zwischen den `SONST` und `ENDE FALLS` Blöcken wird in dem nachfolgenden Code ausgeführt, da die Bedingung nicht erfüllt ist:"
   ]
  },
  {
   "cell_type": "code",
   "execution_count": null,
   "metadata": {
    "pycharm": {
     "name": "#%%\n"
    }
   },
   "outputs": [],
   "source": [
    "bücher = 10\n",
    "\n",
    "if bücher > 20:\n",
    "    print('Es gibt mehr als 20 Bücher.')\n",
    "else:\n",
    "    print('Es gibt weniger gleich 20 Bücher.')\n"
   ]
  },
  {
   "cell_type": "markdown",
   "metadata": {
    "pycharm": {
     "name": "#%% md\n"
    }
   },
   "source": [
    "Neben dem zusätzlichen alternativen Zweig besteht weiterhin die Möglichkeit, auf mehrere Zweige zu prüfen. Dies wird in der Umsetzung auch `switch case` genannt. Im Pseudocode wird dies folgendermaßen bezeichnet:\n",
    "\n",
    "```\n",
    "FALLS Selektionsausdruck\n",
    "    Wert 1: Schritt 1\n",
    "    Wert 2: Schritt 2\n",
    "    ...\n",
    "    Wert n: Schritt n\n",
    "    [ SONST: Schritt n+1, wenn Selektionsausdruck keinen Wert 1..n hat ]\n",
    "ENDE FALLS\n",
    "```\n",
    "\n",
    "Die Syntax unterscheidet sich in Python, da es keine entsprechende Anweisung gibt. Stattdessen wird dies über `if`-Anweisungen realisiert:"
   ]
  },
  {
   "cell_type": "code",
   "execution_count": null,
   "metadata": {
    "pycharm": {
     "is_executing": false,
     "name": "#%%\n"
    }
   },
   "outputs": [],
   "source": [
    "zahl = 21\n",
    "\n",
    "if zahl < 10:\n",
    "    print('Die Zahl ist kleiner als 10.')\n",
    "elif zahl < 20:\n",
    "    print('Die Zahl ist kleiner als 20.')\n",
    "elif zahl < 30:\n",
    "    print('Die Zahl ist kleiner als 30.')\n",
    "else:\n",
    "    print('Die Zahl ist größer gleich 30.')"
   ]
  },
  {
   "cell_type": "markdown",
   "metadata": {
    "pycharm": {
     "name": "#%% md\n"
    }
   },
   "source": [
    "## Schleifen\n",
    "\n",
    "Wir haben nun eine Folge eines Python-Programms vorliegen, welche ein repetitives Muster aufweist:"
   ]
  },
  {
   "cell_type": "code",
   "execution_count": null,
   "metadata": {
    "pycharm": {
     "is_executing": false,
     "name": "#%%\n"
    }
   },
   "outputs": [],
   "source": [
    "print(1)\n",
    "print(2)\n",
    "print(3)\n",
    "print(4)\n",
    "print(5)\n",
    "print(6)\n",
    "print(7)\n",
    "print(8)\n",
    "print(9)\n",
    "print(10)"
   ]
  },
  {
   "cell_type": "markdown",
   "metadata": {
    "pycharm": {
     "name": "#%% md\n"
    }
   },
   "source": [
    "Diese Anweisungen lassen sich einfach mit einer *Schleife* realisieren. Als Beispiel wird nachfolgend eine *Solange-Schleife* verwendet:\n",
    "\n",
    "```\n",
    "SOLANGE Bedingung  FÜHRE AUS\n",
    "    Schritt\n",
    "ENDE SOLANGE\n",
    "```\n",
    "\n",
    "Ähnlich, wie es in der Fallunterscheidung angegeben ist, wird der Schritt zwischen den `FÜHRE AUS` und `ENDE SOLANGE`-Blöcken solange ausgeführt, bis die Bedingung nicht mehr erfüllt ist."
   ]
  },
  {
   "cell_type": "code",
   "execution_count": null,
   "metadata": {
    "pycharm": {
     "is_executing": false,
     "name": "#%%\n"
    }
   },
   "outputs": [],
   "source": [
    "zaehler = 1\n",
    "\n",
    "while zaehler < 11:\n",
    "    print(zaehler)\n",
    "    zaehler = zaehler + 1"
   ]
  },
  {
   "cell_type": "markdown",
   "metadata": {
    "pycharm": {
     "name": "#%% md\n"
    }
   },
   "source": [
    "Auffällig ist, dass bei dieser Variante die Algorithmusschritte nur dann ausgeführt werden, wenn die Bedingung zu Beginn erfüllt ist.\n",
    "\n",
    "Alternativ gibt es die *Wiederhole-Solange-Schleife*, welche die Bedingung immer nach dem Ausführen der Schritte prüft:\n",
    "\n",
    "```\n",
    "WIEDERHOLE\n",
    "    Schritte\n",
    "SOLANGE Bedingung\n",
    "```\n",
    "\n",
    "In C-ähnlichen Sprachen würde diese Schleife anhand eines `do` eingeleitet werden. In Python ist eine direkte Umsetzungsmöglichkeit der Schleife nicht vorhanden. Wir müssen den Einsatz der `while`-Schleife modifizieren bzw. anpassen.\n",
    "Das obige Beispiel zur üblichen Solange-Schleife passen wir so an, dass der Unterschied direkt in's Auge fällt: Die Abbruchbedingung ist dieselbe. Der Zähler soll in der Schleife inkrementiert werden, aber nicht den Wert 1 erreichen."
   ]
  },
  {
   "cell_type": "code",
   "execution_count": null,
   "metadata": {
    "pycharm": {
     "is_executing": false,
     "name": "#%%\n"
    }
   },
   "outputs": [],
   "source": [
    "print('Solange-Schleife:')\n",
    "zaehler = 1\n",
    "while zaehler < 1:\n",
    "    print(zaehler)\n",
    "    zaehler = zaehler + 1\n",
    "print('Ende Solange-Schleife')\n",
    "\n",
    "\n",
    "print('Wiederhole-Solange-Schleife:')\n",
    "zaehler = 1\n",
    "while True:\n",
    "    print(zaehler)    \n",
    "    zaehler = zaehler + 1\n",
    "    if zaehler < 1:\n",
    "        continue\n",
    "    else:\n",
    "        break"
   ]
  },
  {
   "cell_type": "markdown",
   "metadata": {
    "pycharm": {
     "name": "#%% md\n"
    }
   },
   "source": [
    "Die klassische *Für-bis-Schleife* ist ein häufig verwendeter elemtarer Algorithmusschritt, um eine Start- und Endbedingung an eine sich wiederholende Schrittfolge zu übergeben.\n",
    "\n",
    "```\n",
    "FÜR i = n1 bis n2 SCHRITTWEITE n3\n",
    "    Schritte\n",
    "ENDE FÜR\n",
    "```\n",
    "\n",
    "Der Syntax dieser Schleife setzt drei Variablen `n1`, `n2` und `n3` sowie die Zuweisung `i = n1` voraus. Die Inhalte der Variablen `n1`, `n2` und `n3` sind Zahlen, welche folgende Signifikanz haben:\n",
    "\n",
    "- `i` ist die laufende Variable, in welcher der Wert des jeweiligen Schleifendurchlaufs zugewiesen und referenzierbar ist.\n",
    "- `n1` ist der Startwert, mit welchem die Schleife beginnen wird. Die Variable `i` wird mit dem Startwert, im nachfolgenden Algorithmus `1`, initialisiert.\n",
    "- `n2` ist der Endwert, oder auch obere Schranke, welche als Abbruchbedingung gilt. Sobald dieser Wert erreicht wird, wird der Schleifendurchlauf abgebrochen. Hier ist es der Wert `11`.\n",
    "- `n3` beschreibt die Schrittweite, in welcher wir den Wertebereich inkrementieren wollen. Diese ist hier `1`."
   ]
  },
  {
   "cell_type": "code",
   "execution_count": null,
   "metadata": {
    "pycharm": {
     "is_executing": false,
     "name": "#%%\n"
    }
   },
   "outputs": [],
   "source": [
    "for i in range(1, 11, 1):\n",
    "    print(i)"
   ]
  },
  {
   "cell_type": "markdown",
   "metadata": {
    "pycharm": {
     "name": "#%% md\n"
    }
   },
   "source": [
    "Die *For-Schleife* in Python ist darauf ausgelegt, über eine Sequenz oder Liste von Objekten zu iterieren. Diese Schleife ist allgemein als *For-Each-Schleife*, oder auch *Für-in-Schleife*, bekannt:\n",
    "\n",
    "```\n",
    "FÜR JEDES Element IN Sequenz\n",
    "    Schritte\n",
    "ENDE FÜR\n",
    "```\n",
    "\n",
    "Hier erstellen wir zunächst eine Liste, welche die Elemente enthält, über welche wir iterieren wollen. Anschließend geben wir die einzelnen Elemente gewohnt via `print` aus."
   ]
  },
  {
   "cell_type": "code",
   "execution_count": null,
   "metadata": {
    "pycharm": {
     "is_executing": false,
     "name": "#%%\n"
    }
   },
   "outputs": [],
   "source": [
    "zahlen = [1, 2, 3, 4, 5, 6, 7, 8, 9, 10]\n",
    "\n",
    "for zahl in zahlen:\n",
    "    print(zahl)"
   ]
  },
  {
   "cell_type": "markdown",
   "metadata": {
    "pycharm": {
     "name": "#%% md\n"
    }
   },
   "source": [
    "## Aufruf\n",
    "\n",
    "Bei der alleinigen Verwendung der bisher bekannten Algorithmusschritte, müssen Algorithmusschritte, die mehrmals in einem Algorithmus benötigt werden, diese immer wieder in der Reihenfolge ihres Aufrufs niedergeschreiben werden. Dies führt zu langen und unübersichtlichen Sequenzen. Zur Steigerung der Wiederverwertbarkeit und Lesbarkeit kann, dank des elementaren Algorithmusschrittes \"Aufruf eines Algorithmus'\" Funktinalität oder Logik in Funktionen gekapselt werden.\n",
    "\n",
    "Formal wird ein Algorithmus folgendermaßen umschrieben:\n",
    "\n",
    "```\n",
    "ALGORITHMUS\n",
    "    Name(Übername-; Rückgabedaten)\n",
    "BESCHREIBUNG\n",
    "    Umgangssprachliche Beschreibung des Algorithmus'.\n",
    "DEKLARATION UND DEFINITION DER LOKALEN GRÖßEN\n",
    "    Alle im Algorithmus verwendeten Daten (Variablen, Felder und Konstanten) werden mit ihrem Datentyp definiert. Daten können weiterhin sein: Eingabe- und Ausgabedaten, Übernahme- und Rückgabedaten (Parameter).\n",
    "ALGORITHMUSKERN\n",
    "    Aktionen des Algorithmus, die mit elementaren, standardisierten Sprachmitteln (elementare Algorithmusschritte) beschrieben werden (operativer Teil des Algorithmus). Besonderer Wert sollte auf die Fehlererkennung und die Generierung von Fehlermeldungen gelegt werden. Eingabe- und Ausgabeschritte sind ebenfalls Bestandteil des Algorithmuskerns.\n",
    "ENDE ALGORITHMUS\n",
    "```\n",
    "\n",
    "Ein Beispiel, um die Fakultät einer natürlichen Zahl zu berechnen, sieht folgendermaßen aus:\n",
    "\n",
    "```\n",
    "ALGORITHMUS\n",
    "    Fakultätsberechnung()\n",
    "BESCHREIBUNG\n",
    "    Berechnung der Fakultät von einer einzulesenden Zahl.\n",
    "DEKLARATION UND DEFINITION DER LOKALEN GRÖßEN\n",
    "    Natürliche Zahlen: Zahl, i, Fakultät\n",
    "    Übergabeparameter: keine\n",
    "    Rückgabeparameter: keine\n",
    "ALGORITHMUSKERN\n",
    "    Einlesen von Zahl\n",
    "    Fakultät = 1\n",
    "    FÜR i = 1 BIS Zahl SCHRITTWEITE 1\n",
    "        Fakultät = Fakultät * i\n",
    "    ENDE FÜR\n",
    "    Ausgabe(Fakultät)\n",
    "ENDE ALGORITHMUS\n",
    "```\n",
    "\n",
    "In Python setzen wir diesen Algorithmus z.B. wie folgt um:"
   ]
  },
  {
   "cell_type": "code",
   "execution_count": null,
   "metadata": {
    "pycharm": {
     "is_executing": false,
     "name": "#%%\n"
    }
   },
   "outputs": [],
   "source": [
    "eingabe = input()\n",
    "zahl = int(eingabe)\n",
    "\n",
    "fakultät = 1\n",
    "for i in range(1, zahl+1, 1):\n",
    "    fakultät = fakultät * i\n",
    "\n",
    "print(fakultät)"
   ]
  },
  {
   "cell_type": "markdown",
   "metadata": {
    "pycharm": {
     "name": "#%% md\n"
    }
   },
   "source": [
    "Anhand der Funktion `input()` wird eine Tastatureingabe des Anwenders angefordert und das Ergebnis in der Variable `eingabe` gespeichert. Im Anschluss wandeln wir dieses Ergebnis mit der Funktion `int()` in eine natürliche Zahl um, welche wir im weiteren Verlauf verwenden werden.\n",
    "\n",
    "Auffällig ist hier der Endwert, welchen wir mit `zahl+1`angeben. Die Funktion `range()` nimmt den Endwert exklusiv entgegen, sodass wir als Obergrenze die nächsthöhere Zahl angeben müssen.\n",
    "\n",
    "Zwecks Wiederverwertbarkeit kann die Funktionalität der Fakultätsberechnung in einen eigenen Algoritmus gekapselt werden. Die Eingabe und Ausgabe muss dann z.B. im aufrufenden Algorithmus erfolgen. In Python geschieht die Implementierung als Funktion wie folgt:"
   ]
  },
  {
   "cell_type": "code",
   "execution_count": null,
   "metadata": {
    "pycharm": {
     "name": "#%%\n"
    }
   },
   "outputs": [],
   "source": [
    "def fakultätsberechnung(zahl):\n",
    "    fakultät = 1\n",
    "    for i in range(1, zahl+1, 1):\n",
    "        fakultät = fakultät * i\n",
    "    return fakultät\n",
    "\n",
    "print(fakultätsberechnung(3))"
   ]
  },
  {
   "cell_type": "markdown",
   "metadata": {
    "pycharm": {
     "name": "#%% md\n"
    }
   },
   "source": [
    "Eine weitere Möglichkeit zur Berechnung der Fakultät ist die Verwendung von *Rekursion*, also eine Funktion, die sich selbst wieder aufruft:"
   ]
  },
  {
   "cell_type": "code",
   "execution_count": null,
   "metadata": {
    "pycharm": {
     "is_executing": false,
     "name": "#%%\n"
    }
   },
   "outputs": [],
   "source": [
    "def rekursive_fakultät(zahl):\n",
    "    if zahl == 1:\n",
    "        return 1\n",
    "    \n",
    "    return zahl * rekursive_fakultät(zahl-1)\n",
    "\n",
    "print(rekursive_fakultät(3))"
   ]
  }
 ],
 "metadata": {
  "kernelspec": {
   "display_name": "Python 3.10.8 64-bit (microsoft store)",
   "language": "python",
   "name": "python3"
  },
  "language_info": {
   "codemirror_mode": {
    "name": "ipython",
    "version": 3
   },
   "file_extension": ".py",
   "mimetype": "text/x-python",
   "name": "python",
   "nbconvert_exporter": "python",
   "pygments_lexer": "ipython3",
   "version": "3.10.8 (tags/v3.10.8:aaaf517, Oct 11 2022, 16:50:30) [MSC v.1933 64 bit (AMD64)]"
  },
  "vscode": {
   "interpreter": {
    "hash": "c68636a1e49bf3485adde1c0d609ef5e395c0403b8d075633af773dedef405cd"
   }
  }
 },
 "nbformat": 4,
 "nbformat_minor": 4
}
