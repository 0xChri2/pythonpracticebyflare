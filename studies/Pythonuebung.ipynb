{
 "cells": [
  {
   "cell_type": "markdown",
   "metadata": {
    "tags": []
   },
   "source": [
    "# Python-Übung\n",
    "\n",
    "Diese Übung beschäftigt sich mit der Übertragung von Algorithmen in die Programmiersprache Python\n"
   ]
  },
  {
   "attachments": {},
   "cell_type": "markdown",
   "metadata": {
    "tags": []
   },
   "source": [
    "## Aufgabe 1\n",
    "Altersverifikation\n",
    "\n",
    "### Aufgabe 1a\n",
    "\n",
    "Erstellen Sie einen Algorithmus, der den Benutzer nach seinem Alter fragt, und anschließend ausgibt, ob er volljährig ist oder nicht.\n",
    "\n",
    "Beispiel:\n",
    "\n",
    "> Ihr Alter? 17\n",
    "Sie sind noch nicht volljährig\n",
    "\n",
    "> Ihr Alter? 18\n",
    "Gratuliere: Sie sind bereits volljährig\n",
    "\n",
    "```\n",
    "ALGORITHMUS\n",
    "    Altersverifikation\n",
    "Beschreibung\n",
    "    Prüft, ob das eingegebene Alter zurückzuführen ist auf eine Volljährigkeit oder nicht\n",
    "DEKLARATION UND DEFINITION DER LOKALEN GRÖßEN\n",
    "    Übernahmeparameter: Keine\n",
    "    Rückgabeparameter: Keine\n",
    "    Natürliche Zahlen: Alter\n",
    "ALGORITHMUSKERN\n",
    "    Nutzereingabe in der Variable Alter Speichern\n",
    "    FALLS Alter größer gleich 18\n",
    "        Gebe aus: Gratuliere: Sie sind bereits Volljährig\n",
    "    SONST\n",
    "        Gebe aus: Sie sind noch nicht Volljährig\n",
    "    ENDE FALLS\n",
    "ENDE ALGORITHMUS\n",
    "```\n",
    "\n",
    "### Aufgabe 1b\n",
    "\n",
    "Übersetzen Sie Ihren Algorithmus in Python-Code.\n"
   ]
  },
  {
   "cell_type": "code",
   "execution_count": 15,
   "metadata": {
    "collapsed": false
   },
   "outputs": [
    {
     "ename": "KeyboardInterrupt",
     "evalue": "Interrupted by user",
     "output_type": "error",
     "traceback": [
      "\u001b[0;31m---------------------------------------------------------------------------\u001b[0m",
      "\u001b[0;31mKeyboardInterrupt\u001b[0m                         Traceback (most recent call last)",
      "Cell \u001b[0;32mIn [15], line 2\u001b[0m\n\u001b[1;32m      1\u001b[0m \u001b[39m# Hier Ihre Lösung\u001b[39;00m\n\u001b[0;32m----> 2\u001b[0m alter \u001b[39m=\u001b[39m \u001b[39minput\u001b[39;49m(\u001b[39m\"\u001b[39;49m\u001b[39mWie alt bist du? \u001b[39;49m\u001b[39m\"\u001b[39;49m)\n\u001b[1;32m      3\u001b[0m \u001b[39mif\u001b[39;00m(alter \u001b[39m>\u001b[39m\u001b[39m=\u001b[39m \u001b[39m\"\u001b[39m\u001b[39m18\u001b[39m\u001b[39m\"\u001b[39m):\n\u001b[1;32m      4\u001b[0m     \u001b[39mprint\u001b[39m(\u001b[39m\"\u001b[39m\u001b[39mDu bist Volljährig!\u001b[39m\u001b[39m\"\u001b[39m)\n",
      "File \u001b[0;32m/Library/Frameworks/Python.framework/Versions/3.10/lib/python3.10/site-packages/ipykernel/kernelbase.py:1177\u001b[0m, in \u001b[0;36mKernel.raw_input\u001b[0;34m(self, prompt)\u001b[0m\n\u001b[1;32m   1173\u001b[0m \u001b[39mif\u001b[39;00m \u001b[39mnot\u001b[39;00m \u001b[39mself\u001b[39m\u001b[39m.\u001b[39m_allow_stdin:\n\u001b[1;32m   1174\u001b[0m     \u001b[39mraise\u001b[39;00m StdinNotImplementedError(\n\u001b[1;32m   1175\u001b[0m         \u001b[39m\"\u001b[39m\u001b[39mraw_input was called, but this frontend does not support input requests.\u001b[39m\u001b[39m\"\u001b[39m\n\u001b[1;32m   1176\u001b[0m     )\n\u001b[0;32m-> 1177\u001b[0m \u001b[39mreturn\u001b[39;00m \u001b[39mself\u001b[39;49m\u001b[39m.\u001b[39;49m_input_request(\n\u001b[1;32m   1178\u001b[0m     \u001b[39mstr\u001b[39;49m(prompt),\n\u001b[1;32m   1179\u001b[0m     \u001b[39mself\u001b[39;49m\u001b[39m.\u001b[39;49m_parent_ident[\u001b[39m\"\u001b[39;49m\u001b[39mshell\u001b[39;49m\u001b[39m\"\u001b[39;49m],\n\u001b[1;32m   1180\u001b[0m     \u001b[39mself\u001b[39;49m\u001b[39m.\u001b[39;49mget_parent(\u001b[39m\"\u001b[39;49m\u001b[39mshell\u001b[39;49m\u001b[39m\"\u001b[39;49m),\n\u001b[1;32m   1181\u001b[0m     password\u001b[39m=\u001b[39;49m\u001b[39mFalse\u001b[39;49;00m,\n\u001b[1;32m   1182\u001b[0m )\n",
      "File \u001b[0;32m/Library/Frameworks/Python.framework/Versions/3.10/lib/python3.10/site-packages/ipykernel/kernelbase.py:1219\u001b[0m, in \u001b[0;36mKernel._input_request\u001b[0;34m(self, prompt, ident, parent, password)\u001b[0m\n\u001b[1;32m   1216\u001b[0m             \u001b[39mbreak\u001b[39;00m\n\u001b[1;32m   1217\u001b[0m \u001b[39mexcept\u001b[39;00m \u001b[39mKeyboardInterrupt\u001b[39;00m:\n\u001b[1;32m   1218\u001b[0m     \u001b[39m# re-raise KeyboardInterrupt, to truncate traceback\u001b[39;00m\n\u001b[0;32m-> 1219\u001b[0m     \u001b[39mraise\u001b[39;00m \u001b[39mKeyboardInterrupt\u001b[39;00m(\u001b[39m\"\u001b[39m\u001b[39mInterrupted by user\u001b[39m\u001b[39m\"\u001b[39m) \u001b[39mfrom\u001b[39;00m \u001b[39mNone\u001b[39m\n\u001b[1;32m   1220\u001b[0m \u001b[39mexcept\u001b[39;00m \u001b[39mException\u001b[39;00m:\n\u001b[1;32m   1221\u001b[0m     \u001b[39mself\u001b[39m\u001b[39m.\u001b[39mlog\u001b[39m.\u001b[39mwarning(\u001b[39m\"\u001b[39m\u001b[39mInvalid Message:\u001b[39m\u001b[39m\"\u001b[39m, exc_info\u001b[39m=\u001b[39m\u001b[39mTrue\u001b[39;00m)\n",
      "\u001b[0;31mKeyboardInterrupt\u001b[0m: Interrupted by user"
     ]
    }
   ],
   "source": [
    "# Hier Ihre Lösung\n",
    "alter = input(\"Wie alt bist du? \")\n",
    "if(alter >= \"18\"):\n",
    "    print(\"Du bist Volljährig!\")\n",
    "else:\n",
    "    print(\"Du bist noch nicht Volljährig!\")"
   ]
  },
  {
   "cell_type": "markdown",
   "metadata": {
    "tags": []
   },
   "source": [
    "## Aufgabe 2\n",
    "\n",
    "Elementare Algorithmen und die Übertragung in Python\n",
    "\n",
    "### Aufgabe 2a\n",
    "\n",
    "Schreiben Sie einen Algorithmus, der auf der Basis von zwei verschiedenen Schleifentypen jeweils die Ausgabe von geraden Zahlen von 0 bis `n` erzeugt. Der Parameter `n` soll im Algorithmus eingelesen werden."
   ]
  },
  {
   "attachments": {},
   "cell_type": "markdown",
   "metadata": {},
   "source": [
    "```\n",
    "ALGORITHMUS\n",
    "    gerade_zahlen\n",
    "Beschriebung\n",
    "    Gibt alle Zahlen von 0 bis n aus.\n",
    "ENDE ALGORITHMUS\n",
    "```"
   ]
  },
  {
   "cell_type": "markdown",
   "metadata": {
    "tags": []
   },
   "source": [
    "\n",
    "### Aufgabe 2b\n",
    "\n",
    "Übertragen Sie den in Aufgabe 2a entwickelten Algorithmus in Python.\n",
    "\n"
   ]
  },
  {
   "cell_type": "code",
   "execution_count": null,
   "metadata": {
    "collapsed": false
   },
   "outputs": [
    {
     "ename": "TypeError",
     "evalue": "unsupported operand type(s) for ** or pow(): 'str' and 'str'",
     "output_type": "error",
     "traceback": [
      "\u001b[0;31m---------------------------------------------------------------------------\u001b[0m",
      "\u001b[0;31mTypeError\u001b[0m                                 Traceback (most recent call last)",
      "Cell \u001b[0;32mIn [2], line 5\u001b[0m\n\u001b[1;32m      3\u001b[0m \u001b[39msum\u001b[39m \u001b[39m=\u001b[39m \u001b[39m0\u001b[39m\n\u001b[1;32m      4\u001b[0m \u001b[39mfor\u001b[39;00m i \u001b[39min\u001b[39;00m n:\n\u001b[0;32m----> 5\u001b[0m     \u001b[39msum\u001b[39m \u001b[39m=\u001b[39m \u001b[39mpow\u001b[39;49m(i,n)\n\u001b[1;32m      6\u001b[0m     \u001b[39mprint\u001b[39m(\u001b[39msum\u001b[39m)\n\u001b[1;32m      8\u001b[0m j \u001b[39m=\u001b[39m \u001b[39m0\u001b[39m\n",
      "\u001b[0;31mTypeError\u001b[0m: unsupported operand type(s) for ** or pow(): 'str' and 'str'"
     ]
    }
   ],
   "source": [
    "n = input(\"Geben Sie eine Zahl ein: \")\n",
    "sum = 0\n",
    "n = int(n)\n",
    "for i in range(n):\n",
    "    sum = pow(i,n)\n",
    "    print(sum)\n",
    "    \n",
    "j = 0\n",
    "sum = 0\n",
    "while(j< 10):\n",
    "    print\n",
    "    j = j + 1\n",
    "    sum = pow(j,n)\n",
    "    print(sum)"
   ]
  },
  {
   "cell_type": "markdown",
   "metadata": {},
   "source": [
    "## Aufgabe 3\n",
    "\n",
    "Das Ziel dieser Aufgabe ist es, einen größeren vorgegebenen Algorithmus in Python zu übersetzen. Verwenden Sie, wo es nicht anders möglich ist, Ausgaben via `print`. \n",
    "\n",
    "```\n",
    "ALGORITHMUS\n",
    "    Tiefkühlpizza()\n",
    "BESCHREIBUNG\n",
    "    Bereitet eine Tiefkühlpizza zu.\n",
    "DEKLARATION UND DEFINITION DER LOKALEN GRÖẞEN\n",
    "    Übernahmeparameter: Keine\n",
    "    Rückgabeparameter: Keine\n",
    "    Zutaten: Tiefkühlpizza\n",
    "    Geschirr: Teller\n",
    "    Geräte: Backofen, Tiefkühlschrank\n",
    "ALGORITHMUSKERN\n",
    "    Backofen anschalten/vorheizen\n",
    "    SOLANGE Backofen nicht heiß FÜHRE AUS\n",
    "        Warte 1 min\n",
    "    ENDE SOLANGE\n",
    "    Pizza aus Tiefkühlschrank nehmen\n",
    "    Pizza aus Verpackung nehmen\n",
    "    Öffne Backofen\n",
    "    Pizza in Backofen legen\n",
    "    Schließe Backofen\n",
    "    WIEDERHOLE\n",
    "        Warte 1 min\n",
    "    SOLANGE Pizza nicht fertig\n",
    "    Backofen ausschalten\n",
    "    Öffne Backofen\n",
    "    Pizza aus Backofen holen und auf Teller legen\n",
    "    Schließe Backofen\n",
    "ENDE ALGORITHMUS\n",
    "```"
   ]
  },
  {
   "cell_type": "code",
   "execution_count": null,
   "metadata": {
    "collapsed": false
   },
   "outputs": [],
   "source": [
    "# Hier Ihre Lösung\n"
   ]
  },
  {
   "cell_type": "markdown",
   "metadata": {},
   "source": [
    "\n",
    "## Aufgabe 4: Zahlen addieren\n",
    "\n",
    "a) Entwickeln Sie ein Programm, der die Summe<br>\n",
    "1 + 2 + 3 + 4 + … + 10<br>\n",
    "berechnet."
   ]
  },
  {
   "cell_type": "code",
   "execution_count": 20,
   "metadata": {},
   "outputs": [
    {
     "name": "stdout",
     "output_type": "stream",
     "text": [
      "1\n",
      "3\n",
      "6\n",
      "10\n",
      "15\n"
     ]
    }
   ],
   "source": [
    "# Hier Ihre Lösung\n",
    "sum = 0\n",
    "for i in range(0,5):\n",
    "    sum = sum + i +1\n",
    "    \n",
    "print(sum)   \n"
   ]
  },
  {
   "cell_type": "markdown",
   "metadata": {},
   "source": [
    "\n",
    "b) Ändern Sie dann das Programm so, dass der Start- und Endwert variabel sind, also eingeben werden können. "
   ]
  },
  {
   "cell_type": "code",
   "execution_count": 22,
   "metadata": {},
   "outputs": [
    {
     "name": "stdout",
     "output_type": "stream",
     "text": [
      "15\n"
     ]
    }
   ],
   "source": [
    "# Hier Ihre Lösung\n",
    "sum = 0\n",
    "j = int(input(\"Geben Sie eine Zahl ein: \"))\n",
    "n = int(input(\"Geben Sie eine Zahl ein: \"))\n",
    "for i in range(j,n):\n",
    "    sum = sum + i +1\n",
    "    \n",
    "print(sum)   "
   ]
  },
  {
   "cell_type": "markdown",
   "metadata": {},
   "source": [
    "\n",
    "c) Ergänzen Sie das Programm um einen Test, ob der Startwert größer als der Endwert ist. "
   ]
  },
  {
   "cell_type": "code",
   "execution_count": 24,
   "metadata": {},
   "outputs": [
    {
     "name": "stdout",
     "output_type": "stream",
     "text": [
      "14\n"
     ]
    }
   ],
   "source": [
    "# Hier Ihre Lösung\n",
    "sum = int(0)\n",
    "j = int(input(\"Geben Sie eine Zahl ein: \"))\n",
    "n = int(input(\"Geben Sie eine Zahl ein: \"))\n",
    "if(j > n):\n",
    "    for i in range(n,j):\n",
    "        sum = sum + i +1\n",
    "else:\n",
    "    for i in range(j,n):\n",
    "        sum = sum + i +1   \n",
    "print(sum)   "
   ]
  },
  {
   "cell_type": "markdown",
   "metadata": {},
   "source": [
    "\n",
    "## Aufgabe 5: Zahlen überprüfen\n",
    "\n",
    "Entwickeln Sie ein Programm, der zu einer gegebenen Zahl `n` prüft, ob `n` mit einer 3 endet. Z.B. endet 853 mit einer 3, aber 47 endet nicht mit einer 3."
   ]
  },
  {
   "cell_type": "code",
   "execution_count": 27,
   "metadata": {},
   "outputs": [
    {
     "name": "stdout",
     "output_type": "stream",
     "text": [
      "Die Zahl hat als letzte Ziffer eine 3\n"
     ]
    }
   ],
   "source": [
    "n = int(input(\"Geben Sie eine Zahl ein: \"))\n",
    "if(n % 10 == 3):\n",
    "    print(\"Die Zahl hat als letzte Ziffer eine 3\")\n",
    "else:\n",
    "    print(\"hat keine 3 als letzte Zahl\")"
   ]
  },
  {
   "cell_type": "markdown",
   "metadata": {},
   "source": [
    "\n",
    "## Aufgabe 6: Schaltjahre\n",
    "\n",
    "Entwerfen Sie ein Programm zur Bestimmung, ob ein gegebenes Jahr ein Schaltjahr ist oder nicht. "
   ]
  },
  {
   "cell_type": "code",
   "execution_count": 28,
   "metadata": {},
   "outputs": [
    {
     "name": "stdout",
     "output_type": "stream",
     "text": [
      "Das Jahr ist ein Schaltjahr\n"
     ]
    }
   ],
   "source": [
    "# Hier Ihre Lösung\n",
    "year = int(input(\"Geben Sie ein Jahr ein: \"))\n",
    "if(year % 4 == 0):\n",
    "    if(year % 100 == 0):\n",
    "        if(year % 400 == 0):\n",
    "            print(\"Das Jahr ist ein Schaltjahr\")\n",
    "        else:\n",
    "            print(\"Das Jahr ist kein Schaltjahr\")\n",
    "    else:\n",
    "        print(\"Das Jahr ist ein Schaltjahr\")"
   ]
  },
  {
   "cell_type": "markdown",
   "metadata": {},
   "source": [
    "## Aufgabe 7 - Minimum berechnen\n",
    "\n",
    "### Aufgabe 7a)\n",
    "Erstellen Sie eine Funktion `min_2(a, b)`, welche das Minimum von zwei Zahlen zurückgibt, die an die Funktion übergeben werden. Nutzen Sie dabei lediglich den Vergleichsoperator und *nicht* die `min()`-Funktion, die von Python zur Verfügung gestellt wird. Testen Sie Ihre Funktionen mittels der unten stehenden Zahlen:\n",
    "\n",
    "```\n",
    "1, 2\n",
    "2, 2\n",
    "-1, 2\n",
    "0, 0\n",
    "```"
   ]
  },
  {
   "cell_type": "code",
   "execution_count": 30,
   "metadata": {},
   "outputs": [
    {
     "data": {
      "text/plain": [
       "1"
      ]
     },
     "execution_count": 30,
     "metadata": {},
     "output_type": "execute_result"
    }
   ],
   "source": [
    "# Hier Ihre Lösung\n",
    "def min_2(a,b):\n",
    "    #zeigen welche zahl ist kleiner\n",
    "    if(a < b):\n",
    "        return a\n",
    "    else:\n",
    "        return b\n",
    "min_2(1,2)"
   ]
  },
  {
   "cell_type": "markdown",
   "metadata": {},
   "source": [
    "### Aufgabe 7b)\n",
    "Erstellen Sie analog zu 1a) eine weitere Funktion `min_3(a, b, c)`, die das Minimum von drei Zahlen zurückgibt. Testen Sie Ihre Funktionen mittels der unten stehenden Zahlen:\n",
    "\n",
    "```\n",
    "1, 2, 3\n",
    "3, 2, 1\n",
    "3, 3, 0\n",
    "-1, -2, 1\n",
    "```"
   ]
  },
  {
   "cell_type": "code",
   "execution_count": 31,
   "metadata": {},
   "outputs": [
    {
     "data": {
      "text/plain": [
       "1"
      ]
     },
     "execution_count": 31,
     "metadata": {},
     "output_type": "execute_result"
    }
   ],
   "source": [
    "# Hier Ihre Lösung\n",
    "def min_2(a,b):\n",
    "    #zeigen welche zahl ist kleiner\n",
    "    if(a < b):\n",
    "        return a\n",
    "    else:\n",
    "        return b\n",
    "\n",
    "def min_3(a,b,c):\n",
    "    #zeigen welche zahl ist kleiner\n",
    "    if(a < b):\n",
    "        if(a < c):\n",
    "            return a\n",
    "        else:\n",
    "            return c\n",
    "    else:\n",
    "        if(b < c):\n",
    "            return b\n",
    "        else:\n",
    "            return c \n",
    "min_3(1,2,3)"
   ]
  },
  {
   "cell_type": "markdown",
   "metadata": {},
   "source": [
    "### Aufgabe 7c)\n",
    "Verwenden Sie in einer weiteren zu erstellenden Funktion `min_3_1(a, b, c)` die Funktion `min_2(a,b)` aus dem ersten Aufgabenteil."
   ]
  },
  {
   "cell_type": "code",
   "execution_count": null,
   "metadata": {},
   "outputs": [],
   "source": [
    "# Hier Ihre Lösung\n",
    "def min_3_1(a,b,c):\n",
    "    #zeigen welche zahl ist kleiner\n",
    "    if(min_2(a,b)):\n",
    "        if(min_2(a,c)):\n",
    "            return a\n",
    "        else:\n",
    "            return c\n",
    "    else:\n",
    "        if(min_2(b,c)):\n",
    "            return b\n",
    "        else:\n",
    "            return c"
   ]
  },
  {
   "cell_type": "markdown",
   "metadata": {},
   "source": [
    "## Aufgabe 8 - Umrechnung"
   ]
  },
  {
   "cell_type": "markdown",
   "metadata": {},
   "source": [
    "### Aufgabe 8a - Binär zu Dezimal\n",
    "Geben Sie dem Nutzer mithilfe der Funktion `int()` die Möglichkeit, Binärzahlen in Dezimalzahlen umzuwandeln. Die Zahlen sollen später vom Nutzer eingegeben werden können. Testen Sie es mit folgenden Zahlen:\n",
    "\n",
    "```\n",
    "10\n",
    "1010\n",
    "10100100101\n",
    "```\n",
    "Die Ausgabe soll folgendermaßen aussehen:\n",
    "```\n",
    "Tragen Sie bitte nacheinander drei Binärzahlen ein:\n",
    "1. Binärzahl eingeben:  10\n",
    "2. Binärzahl eingeben:  1010\n",
    "3. Binärzahl eingeben:  10100100101\n",
    "Zahl1: 2 Zahl 2: 10 Zahl 3: 1317\n",
    "```"
   ]
  },
  {
   "cell_type": "code",
   "execution_count": 32,
   "metadata": {},
   "outputs": [
    {
     "data": {
      "text/plain": [
       "1010"
      ]
     },
     "execution_count": 32,
     "metadata": {},
     "output_type": "execute_result"
    }
   ],
   "source": [
    "# Hier Ihre Lösung\n",
    "#binär zu dezimal\n",
    "def bin2dec(n):\n",
    "    n = str(n)\n",
    "    sum = 0\n",
    "    for i in range(len(n)):\n",
    "        sum = sum + int(n[i]) * 2 ** (len(n) - i - 1)\n",
    "    return sum \n",
    "\n"
   ]
  },
  {
   "cell_type": "markdown",
   "metadata": {},
   "source": [
    "### Aufgabe 8b - Dezimal zu Binär\n",
    "Nutzen Sie die Funktion `bin()` um eine einzugebende Zahl in eine Binärzahl umzuwandeln. Bei der Eingabe durch den Nutzer denken Sie bitte unbedingt an die Typenumwandlung:"
   ]
  },
  {
   "cell_type": "code",
   "execution_count": null,
   "metadata": {},
   "outputs": [],
   "source": [
    "# Hier Ihre Lösung\n",
    "def dec2bin(n):\n",
    "    if(n == 0):\n",
    "        return 0\n",
    "    else:\n",
    "        return n % 2 + 10 * dec2bin(int(n / 2))\n",
    "dec2bin(10)"
   ]
  },
  {
   "cell_type": "markdown",
   "metadata": {},
   "source": [
    "### Aufgabe 9 - Gleitkommazahlen\n",
    "\n",
    "In Python werden Gleitkommazahlen, wie in anderen Sprachen auch, wegen der endlichen Darstellung im Speicher lediglich approximiert. Es herrscht also eine Ungenauigkeit, die bspw. bei der Darstellung der Zahl `0.1` deutlich wird:"
   ]
  },
  {
   "cell_type": "code",
   "execution_count": null,
   "metadata": {
    "collapsed": false,
    "jupyter": {
     "outputs_hidden": false
    },
    "pycharm": {
     "is_executing": false,
     "name": "#%% \n"
    }
   },
   "outputs": [
    {
     "name": "stdout",
     "output_type": "stream",
     "text": [
      "0.10000000000000000555111512312578\n"
     ]
    }
   ],
   "source": [
    "zahl = 0.1\n",
    "print(f'{zahl:.32f}')"
   ]
  },
  {
   "cell_type": "markdown",
   "metadata": {},
   "source": [
    "Theoretisch können wir die Zahl `1` in einer Endlosschleife durch `2` dividieren, ohne dass der Wert `0` jemals erreicht würde. Diese Vorgehensweise wäre allerdings nicht endlich. Auf Grund der oben gezeigten Ungenauigkeit kann die Zahl 1 solange in Folge durch 2 dividiert werden, bis die Zahl 0 erreicht wird. Diesen Wert können wir als Abbruchkriterium verwenden.\n",
    "\n",
    "Erstellen Sie einen Python-Programm, das eine Zahl, die zunächst mit `1` initialisiert wurde, iterativ in einer Schleife durch `2` dividiert und das Ergebnis ausgibt. Die Schleife soll dann abbrechen, wenn der Wert von Zahl `<= 0` wird."
   ]
  },
  {
   "cell_type": "code",
   "execution_count": null,
   "metadata": {
    "collapsed": false,
    "jupyter": {
     "outputs_hidden": false
    },
    "pycharm": {
     "is_executing": false
    }
   },
   "outputs": [],
   "source": [
    "# Hier Ihre Lösung"
   ]
  },
  {
   "cell_type": "markdown",
   "metadata": {},
   "source": [
    "## Aufgabe 10 - Größter gemeinsamer Teiler\n",
    "\n",
    "Bitte geben Sie den Algorithmus (als Pseudocode) einer Funktion zur Berechnung des größten gemeinsamen Teilers zweier Zahlen an. Implementieren Sie diesen Algorithmus im Anschluss in Python als `ggT()` Funktion zwecks Wiederverwendbarkeit.\n",
    "\n",
    "[Informationen zu größtem gemeinsamen Teiler](https://moodle.hsnr.de/pluginfile.php/786612/mod_resource/content/1/ggTx.pdf)\n",
    "\n",
    "```\n",
    "ALGORITHMUS\n",
    "    ggt(x,y;z)\n",
    "BESCHREIBUNG\n",
    "    Berechnet den größten gemeinsamen Teiler zweier positiver ganzer Zahlen\n",
    "DATEN\n",
    "    Übernahmeparameter: positive ganze Zahl x, y\n",
    "    Rückgabeparameter: positive ganze Zahl z\n",
    "ALGORITHMUSKERN\n",
    "    SOLANGE x > 0 und y > 0\n",
    "        FALLS x > y\n",
    "            a -= y\n",
    "        SONST\n",
    "            y -= x\n",
    "        ENDE FALLS\n",
    "    ENDE SOLANGE\n",
    "    FALLS y == 0\n",
    "        z= x\n",
    "    SONST\n",
    "        z = y\n",
    "    ENDE FALLS\n",
    "ENDE ALGORITHMUS\n",
    "```"
   ]
  },
  {
   "cell_type": "code",
   "execution_count": null,
   "metadata": {
    "collapsed": false,
    "jupyter": {
     "outputs_hidden": false
    },
    "pycharm": {
     "is_executing": false
    }
   },
   "outputs": [],
   "source": [
    "# Hier Ihre Lösung"
   ]
  },
  {
   "cell_type": "markdown",
   "metadata": {},
   "source": [
    "## Aufgabe 11\n",
    "Berechnen Sie für die zwei Variablen x und y die Potenz (x^y). Initialisieren Sie x mit 5 und y mit 25. Führen Sie dies einmal manuell (mit einer for-Schleife) und einmal mit dem in Python gegebenen Operator für das Potenzieren aus. Am Ende geben Sie bitte das Ergebnis und die Anzahl an Bytes aus, die das Ergebnis beansprucht."
   ]
  },
  {
   "cell_type": "code",
   "execution_count": null,
   "metadata": {},
   "outputs": [],
   "source": [
    "# Hier Ihre Lösung"
   ]
  }
 ],
 "metadata": {
  "kernelspec": {
   "display_name": "Python 3",
   "language": "python",
   "name": "python3"
  },
  "language_info": {
   "codemirror_mode": {
    "name": "ipython",
    "version": 3
   },
   "file_extension": ".py",
   "mimetype": "text/x-python",
   "name": "python",
   "nbconvert_exporter": "python",
   "pygments_lexer": "ipython3",
   "version": "3.10.8 (tags/v3.10.8:aaaf517, Oct 11 2022, 16:50:30) [MSC v.1933 64 bit (AMD64)]"
  },
  "orig_nbformat": 4,
  "vscode": {
   "interpreter": {
    "hash": "c68636a1e49bf3485adde1c0d609ef5e395c0403b8d075633af773dedef405cd"
   }
  }
 },
 "nbformat": 4,
 "nbformat_minor": 2
}
