{
 "cells": [
  {
   "cell_type": "markdown",
   "metadata": {},
   "source": [
    "# Python: Erste Schritte\n",
    "\n",
    "Willkommen zu Ihren ersten Schritten in Python. \n",
    "Ein ausgewählter Code-Block kann durch einen Klick auf den \"Run\"-Button ausgeführt werden.\n",
    "\n",
    "Probieren Sie das einfach mal aus."
   ]
  },
  {
   "cell_type": "code",
   "execution_count": 1,
   "metadata": {},
   "outputs": [
    {
     "name": "stdout",
     "output_type": "stream",
     "text": [
      "Hello World!\n"
     ]
    }
   ],
   "source": [
    "print(\"Hello World!\")"
   ]
  },
  {
   "cell_type": "markdown",
   "metadata": {},
   "source": [
    "An die `print()`-Anweisung übergibt man einen Parameter. Hier es ein Text, den die Anweisung in der Konsole ausgeben soll. \n",
    "Diesen Text rahmen wir mit doppelten Anführungszeichen (`\"`) ein. \n",
    "Weitere Informationen zur Print-Funktion finden Sie hier:\n",
    "\n",
    "https://www.python-kurs.eu/python3_formatierte_ausgabe.php\n",
    "\n",
    "Verändern Sie die nachfolgende Zelle, sodass anstelle von `Hello World!` die Ausgabe `Three-Two-One - Takeoff!` erscheint."
   ]
  },
  {
   "cell_type": "code",
   "execution_count": null,
   "metadata": {},
   "outputs": [],
   "source": [
    "# <---- dieser \"Lattenzaun\" kennzeichnet einen Kommentar.\n",
    "       \n",
    "# Ersetze den folgenden Text zwischen den \"\" .\n",
    "print(\"Hello World!\")"
   ]
  },
  {
   "cell_type": "markdown",
   "metadata": {},
   "source": [
    "Ein führender `#` markiert in Python einen Kommentar. Der sich anschließende Text  - bis zum Zeilenende - wird vom Interpreter überlesen und hat somit keinen Einfluss auf das Programm. Kommentare werden zur Verbesserung der Übersicht und zur Dokumentation des Codes verwendet.\n",
    "        \n",
    "        Zusatzaufgaben:\n",
    " \n",
    "                Z1. Was sagen Sie dazu? Ist Python compiliert oder interpretiert?\n",
    "                Z2. Gibt es noch andere Möglichkeiten einen Kommentar zu markieren?\n",
    "                Z2. Erläutern Sie, was Kommentare ermöglichen oder zu welchem Zwecke sie genutzt werden können?\n",
    "\n",
    "Verwenden Sie die nachfolgende Zelle um folgendes Bild zu erzeugen:\n",
    "\n",
    "```\n",
    "      *\n",
    "     ***\n",
    "    *****\n",
    "   *******\n",
    "  *********\n",
    " ***********\n",
    "*************\n",
    "     ***\n",
    "```"
   ]
  },
  {
   "cell_type": "code",
   "execution_count": null,
   "metadata": {},
   "outputs": [],
   "source": [
    "print(\"        +-----------+\")\n",
    "print(\"Hier könnte ihr Text stehen!\")\n",
    "print(\"        +-----------+\")"
   ]
  },
  {
   "cell_type": "markdown",
   "metadata": {},
   "source": [
    "In der folgenden Zelle intialisieren wir eine Variable `zahl`. Durch die Zuweisung von 3 wird der Datentyp der  Variable `zahl` als `int` (für Integer: engl. ganze Zahl) festgelegt. Zahl wird hier benutzt um einen ganzzahlige Werte zu speichern. \n"
   ]
  },
  {
   "cell_type": "code",
   "execution_count": 7,
   "metadata": {
    "scrolled": true
   },
   "outputs": [
    {
     "name": "stdout",
     "output_type": "stream",
     "text": [
      "3\n",
      "94369721230432\n"
     ]
    }
   ],
   "source": [
    "zahl = 3\n",
    "print(zahl)\n",
    "print(id(zahl))\n"
   ]
  },
  {
   "cell_type": "markdown",
   "metadata": {},
   "source": [
    "Auffällig ist, dass wir bei der `print()`-Anweisung durch das Weglassen der doppelten Anführungszeichen (`\"`) den in der Variable `zahl` gespeicherten Wert ausgeben. Was macht die `type`-Anweisung?"
   ]
  },
  {
   "cell_type": "markdown",
   "metadata": {},
   "source": [
    "Was passiert in der folgenden Zelle, wenn Sie der Variable `alter` ihr Alter zuweisen."
   ]
  },
  {
   "cell_type": "code",
   "execution_count": null,
   "metadata": {
    "scrolled": true
   },
   "outputs": [],
   "source": [
    "alter = 0 #Ersetzen Sie 0 mit ihrem Alter\n",
    "print(\"Ich bin\", alter, \"Jahre alt und fühle mich großartig!\")"
   ]
  },
  {
   "cell_type": "markdown",
   "metadata": {},
   "source": [
    "In der nachfolgenden Zelle definieren wir eine Variable `tag_im_jahr`. Weisen Sie ihr einen sinnvollen Wert zu.\n",
    "Erzeugen Sie im Anschluss eine Ausgabe, welche die Variable`tag_im_jahr` berücksichtigt. Wieso wird beim Ausführen der unveränderten Zelle nicht die Ausgabe Ihres Wertes erzeugt? Was müssen Sie anpassen?"
   ]
  },
  {
   "cell_type": "code",
   "execution_count": null,
   "metadata": {},
   "outputs": [],
   "source": [
    "tag_im_jahr = 42 \n",
    "print(\"tag_im_jahr\")"
   ]
  },
  {
   "cell_type": "markdown",
   "metadata": {},
   "source": [
    "Neben dem Datentyp `int` existieren weitere Datentypen in Python, wie z.B.: `str`, `float`, `bool`.\n",
    "\n",
    "-`str` (für string: engl. (Zeichen-) Kette) wird benutzt um Zeichen (typischerweise Buchstaben) zu speichern. \n",
    "\n",
    "-`float` (engl. gleiten/schweben) wird benutzt um Gleitkommazahlen zu speichern.\n",
    "\n",
    "-`bool` (benannt nach dem Mathematiker George Boole) speichert zwei Werte, nämlich `True` oder `False`\n",
    "\n",
    "Den Datentypen `int` für ganze Zahlen kennen wir bereits. "
   ]
  },
  {
   "cell_type": "markdown",
   "metadata": {},
   "source": [
    "In neueren Python Versionen gibt es die Möglichkeit die Schreibweise `variable: datatype = value` zu benutzen.\n",
    "\n",
    "In der nachfolgenden Zelle sind Beispiele für die neue Schreibweise aufgeführt."
   ]
  },
  {
   "cell_type": "code",
   "execution_count": 1,
   "metadata": {},
   "outputs": [
    {
     "name": "stdout",
     "output_type": "stream",
     "text": [
      "abc\n",
      "0.5\n",
      "True\n"
     ]
    }
   ],
   "source": [
    "buchstaben: str = \"abc\" #Bei der Zuweisung des Strings müssen Anführungszeichen verwendet werden!\n",
    "print(buchstaben)\n",
    "\n",
    "gleitkommazahl: float = 0.5\n",
    "print(gleitkommazahl)\n",
    "\n",
    "hab_ich_meine_schuhe_an: bool = True #Finden Sie einen besseren Namen für diese Variable. \n",
    "                                     #Was kennzeichnet eindeutige Bezeichnungen für Sie?\n",
    "print(hab_ich_meine_schuhe_an)"
   ]
  },
  {
   "cell_type": "markdown",
   "metadata": {},
   "source": [
    "Diese Schreibweise können wir von nun an benutzen."
   ]
  },
  {
   "cell_type": "markdown",
   "metadata": {},
   "source": [
    "Hierbei ist wichtig darauf hinzweisen, dass es sich bei `: datatype` um eine Spezifikation handelt, die man mit einem Kommentar vergleichen muss. Selbst wenn wir `: int` spezifizieren, können wir einen Wert zuweisen, der nicht vom Typen `int` ist."
   ]
  },
  {
   "cell_type": "code",
   "execution_count": 8,
   "metadata": {
    "scrolled": true
   },
   "outputs": [
    {
     "name": "stdout",
     "output_type": "stream",
     "text": [
      "abc\n"
     ]
    },
    {
     "data": {
      "text/plain": [
       "str"
      ]
     },
     "execution_count": 8,
     "metadata": {},
     "output_type": "execute_result"
    }
   ],
   "source": [
    "zahl: int = \"abc\" \n",
    "print(zahl)\n",
    "type(zahl)"
   ]
  },
  {
   "cell_type": "markdown",
   "metadata": {},
   "source": [
    "In der obigen Zelle wurde `zahl` der String `abc` zugewiesen, obwohl `abc` kein `int` ist.\n",
    "\n",
    "Korrigieren Sie die nachfolgende Zelle, indem Sie falschen Datenypen durch richtige ersetzen."
   ]
  },
  {
   "cell_type": "code",
   "execution_count": null,
   "metadata": {},
   "outputs": [],
   "source": [
    "anfang_des_alphabets: float = \"abc\" \n",
    "\n",
    "wie_viel_ist_vom_kuchen_uebrig: bool = 0.5\n",
    "\n",
    "wahr: int = True\n",
    "\n",
    "fuenfzig: str = 50\n"
   ]
  },
  {
   "cell_type": "markdown",
   "metadata": {},
   "source": [
    "Wie kann so ein „Widerspruch“ zu einer fehlerlosen Ausführung führen? Zum einen ist die Angabe des Datentyps nur als Kommentar zu verstehen zum anderen, da Python eine interpretierte Programmiersprache mit ``dynamic typing``ist. Das bedeutet, dass Variablen - in Abhängigkeit vom zugewiesenen Wert - ein entsprechender Datentyp zugeordnet wird. Beim ``static typing`` (wie z.B. bei C/C++ oder Java) muss man Datentypen deklarieren und sich strikt an die Deklarationen halten. Bei Missachtung kommt es zu Datenverlusten: Wenn man in C in einer `int`-Variablen einen `float` Wert von `2.5` speichert, wird dieser Wert vom Compiler automatisch auf `2` abgerundet.\n",
    "\n"
   ]
  },
  {
   "cell_type": "markdown",
   "metadata": {},
   "source": [
    "Neben der \"normalen\" Ausgabe können wir auch Rechnungen in der `print()`- Anweisung verstecken. Dabei werden die Operationen von links nach rechts ausgeführt. Hier sehen die Verwendung der Operatoren (`-`, `+`, `*`, `/`)."
   ]
  },
  {
   "cell_type": "code",
   "execution_count": null,
   "metadata": {},
   "outputs": [],
   "source": [
    "print(10 + 20) #Führende und folgende Leerzeichen sind nicht wichtig. Jede dieser Zeilen funktioniert gleich gut.\n",
    "print(30- 5.5) \n",
    "print(2 *5)\n",
    "print(3/6  )   #Zugunsten der Lesbarkeit raten wir zur ersten Schreibweise zu."
   ]
  },
  {
   "cell_type": "markdown",
   "metadata": {},
   "source": [
    "Das Gleiche geht auch, wenn wir statt der Literale ( 10, 20, ...) Variablen benutzen"
   ]
  },
  {
   "cell_type": "code",
   "execution_count": null,
   "metadata": {},
   "outputs": [],
   "source": [
    "print(gleitkommazahl / fuenfzig)"
   ]
  },
  {
   "cell_type": "markdown",
   "metadata": {},
   "source": [
    "Verändern Sie die nachfolgende Zelle um die Ausgabe `42` durch eine Rechnung zu erzeugen."
   ]
  },
  {
   "cell_type": "code",
   "execution_count": null,
   "metadata": {},
   "outputs": [],
   "source": [
    "a: int = 0\n",
    "b: int = 0\n",
    "print(a + b - 10)"
   ]
  },
  {
   "cell_type": "markdown",
   "metadata": {},
   "source": [
    "Sie können Variablen auch Ausdrücke zuweisen."
   ]
  },
  {
   "cell_type": "code",
   "execution_count": null,
   "metadata": {},
   "outputs": [],
   "source": [
    "zahl: int = 1 + 2\n",
    "print(zahl)"
   ]
  },
  {
   "cell_type": "markdown",
   "metadata": {},
   "source": [
    "Verändern Sie die nachfolgende Zelle, sodass ein negatives Ergebnis ausgegeben wird."
   ]
  },
  {
   "cell_type": "code",
   "execution_count": null,
   "metadata": {},
   "outputs": [],
   "source": [
    "negative_zahl: int = fuenfzig     #Ergänzen Sie diese Zeile. \n",
    "print(negative_zahl)"
   ]
  },
  {
   "cell_type": "markdown",
   "metadata": {},
   "source": [
    "In der `print()` Anweisung ist auch Folgendes möglich:"
   ]
  },
  {
   "cell_type": "code",
   "execution_count": null,
   "metadata": {},
   "outputs": [],
   "source": [
    "print(\"Max\" + \" \" + \"Mustermann\")\n",
    "print(\"Py\" + \"thon\")"
   ]
  },
  {
   "cell_type": "markdown",
   "metadata": {},
   "source": [
    "Wir können Strings addieren. Als Ergebnis werden die einzelnen Strings zu einem String konkateniert, wobei die Literale von links nach rechts zusammengesetzt werden. \n",
    "\n",
    "Wir können Strings auch \"multiplizieren\". Wenn wir einen String mit einem Integer `x` multiplizieren, bekommen wir als Ergebnis einen String. Dieser neue String ist der originale String, `x`-mal wiederholt. In unserem Fall dreimal."
   ]
  },
  {
   "cell_type": "code",
   "execution_count": null,
   "metadata": {},
   "outputs": [],
   "source": [
    "print(\"Python ist Klasse!\" * 3)"
   ]
  },
  {
   "cell_type": "markdown",
   "metadata": {},
   "source": [
    "Wie können wir Leerzeichen in die Ausgabe zusätzlich einbinden? Verändern Sie die obige Zelle entsprechend, sodass die Ausgabe:\n",
    "\n",
    "`Python ist Klasse! Python ist Klasse! Python ist Klasse!` \n",
    "\n",
    "erscheint.\n",
    "\n",
    "Wir können diese Art der Addition und Multiplikation miteinander kombinieren. Achten Sie dabei auf die Prioritäten der Operatoren. Durch Setzen von Klammern `()` können Sie die Abarbeitungsfolge ändern."
   ]
  },
  {
   "cell_type": "code",
   "execution_count": 3,
   "metadata": {
    "scrolled": true
   },
   "outputs": [
    {
     "name": "stdout",
     "output_type": "stream",
     "text": [
      "01 01 \n"
     ]
    }
   ],
   "source": [
    "print( (\"0\" + \"1\" + \" \" ) * 2 )"
   ]
  },
  {
   "cell_type": "markdown",
   "metadata": {},
   "source": [
    "Verändern Sie die folgende Zelle, sodass nur das erste `Karma` großgeschrieben wird."
   ]
  },
  {
   "cell_type": "code",
   "execution_count": null,
   "metadata": {},
   "outputs": [],
   "source": [
    "print(\"Karma, \" * 5 + \"chameleon\")\n"
   ]
  },
  {
   "cell_type": "markdown",
   "metadata": {},
   "source": [
    "Verwenden Sie nun die folgende Zeile um diese Ausgabe zu generieren. Benutzen Sie dabei in ihrem Code nur 8 mal das zeichen `*`.\n",
    "\n",
    "\n",
    "```\n",
    "      *\n",
    "     ***\n",
    "    *****\n",
    "   *******\n",
    "  *********\n",
    " ***********\n",
    "*************\n",
    "     ***\n",
    "```"
   ]
  },
  {
   "cell_type": "code",
   "execution_count": null,
   "metadata": {},
   "outputs": [],
   "source": []
  },
  {
   "cell_type": "markdown",
   "metadata": {},
   "source": [
    "### Begleitend zur Vorlesung:\n",
    "Nun sind Sie an der Reihe, versuchen Sie das, was wir in der Vorlesung machen, in Ihrem Notebook zu machen!\n",
    "\n",
    "# Zuweisen von Variablen\n",
    "\n",
    "Schreiben Sie ein kleines Bespiel in Python-Code, um Folgendes zu zeigen:\n",
    "- Was passiert bei der Änderung des Datentyps einer Variablen im Speicher?\n",
    "- Was passiert bei einer impliziten und expiziten Typumwandlung. "
   ]
  },
  {
   "cell_type": "code",
   "execution_count": null,
   "metadata": {
    "scrolled": true
   },
   "outputs": [],
   "source": []
  }
 ],
 "metadata": {
  "kernelspec": {
   "display_name": "Python 3 (ipykernel)",
   "language": "python",
   "name": "python3"
  },
  "language_info": {
   "codemirror_mode": {
    "name": "ipython",
    "version": 3
   },
   "file_extension": ".py",
   "mimetype": "text/x-python",
   "name": "python",
   "nbconvert_exporter": "python",
   "pygments_lexer": "ipython3",
   "version": "3.7.3"
  }
 },
 "nbformat": 4,
 "nbformat_minor": 4
}
